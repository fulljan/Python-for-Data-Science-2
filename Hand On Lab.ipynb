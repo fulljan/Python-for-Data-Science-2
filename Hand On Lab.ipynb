{
 "cells": [
  {
   "cell_type": "code",
   "execution_count": 12,
   "id": "5a26bd18-4d3e-4250-a072-0cbc9269b20e",
   "metadata": {},
   "outputs": [],
   "source": [
    "#Hands On Lab Notebook from Python for Data Science course\n",
    "#Learning about Functions, Types, Variables & Expressions"
   ]
  },
  {
   "cell_type": "code",
   "execution_count": 13,
   "id": "8a09189e-01dc-4263-985d-bdcda22cc2a7",
   "metadata": {},
   "outputs": [
    {
     "name": "stdout",
     "output_type": "stream",
     "text": [
      "Hello, world!\n"
     ]
    }
   ],
   "source": [
    "print('Hello, world!')"
   ]
  },
  {
   "cell_type": "code",
   "execution_count": 2,
   "id": "060af45a-cc94-47af-9ee3-929f0a8bc446",
   "metadata": {},
   "outputs": [
    {
     "name": "stdout",
     "output_type": "stream",
     "text": [
      "Hello, World!\n"
     ]
    }
   ],
   "source": [
    "#Printing traditional Hello, World! greeting\n",
    "print('Hello, World!')"
   ]
  },
  {
   "cell_type": "code",
   "execution_count": 3,
   "id": "a726d207-cf1e-44f7-b550-705becd0df30",
   "metadata": {},
   "outputs": [
    {
     "data": {
      "text/plain": [
       "float"
      ]
     },
     "execution_count": 3,
     "metadata": {},
     "output_type": "execute_result"
    }
   ],
   "source": [
    "#Use type function to check object type of 12.0\n",
    "type(12.0)"
   ]
  },
  {
   "cell_type": "code",
   "execution_count": 1,
   "id": "0a923d6f-0905-4445-ba53-a52fbfbff70a",
   "metadata": {},
   "outputs": [
    {
     "data": {
      "text/plain": [
       "float"
      ]
     },
     "execution_count": 1,
     "metadata": {},
     "output_type": "execute_result"
    }
   ],
   "source": [
    "#What is the data type of the result of: 6 / 2\n",
    "type(6/2)"
   ]
  },
  {
   "cell_type": "code",
   "execution_count": 2,
   "id": "c20eb0f6-d605-4479-8062-22e5a2e72281",
   "metadata": {},
   "outputs": [
    {
     "data": {
      "text/plain": [
       "2.6666666666666665"
      ]
     },
     "execution_count": 2,
     "metadata": {},
     "output_type": "execute_result"
    }
   ],
   "source": [
    "#Write an expression that calculates how many hours there are in 160 minutes\n",
    "160/60 #float integer calc would be 160//60"
   ]
  },
  {
   "cell_type": "code",
   "execution_count": 3,
   "id": "49c56dc7-3252-4d21-82a8-d5b23fe79638",
   "metadata": {},
   "outputs": [
    {
     "data": {
      "text/plain": [
       "7"
      ]
     },
     "execution_count": 3,
     "metadata": {},
     "output_type": "execute_result"
    }
   ],
   "source": [
    "#Expression and Variables Exercise 1: What is the value of x where x = 3 + 2 * 2\n",
    "x = 3 + (2 * 2) #Expecting result of 7\n",
    "x"
   ]
  },
  {
   "cell_type": "code",
   "execution_count": 4,
   "id": "bee56d36-c159-4dbe-ada4-0481d7a45604",
   "metadata": {},
   "outputs": [],
   "source": [
    "#Expression and Variables Exercise 2: What is the value of y where y = (3 + 2) * 2\n",
    "y = (3 + 2) * 2 #Expecting result of 10"
   ]
  },
  {
   "cell_type": "code",
   "execution_count": null,
   "id": "c7564cc5-b360-41c0-85bb-1db5f4d6ab89",
   "metadata": {},
   "outputs": [],
   "source": []
  },
  {
   "cell_type": "code",
   "execution_count": null,
   "id": "334d4c15-937a-4346-8d05-723ff4514dc7",
   "metadata": {},
   "outputs": [],
   "source": []
  }
 ],
 "metadata": {
  "kernelspec": {
   "display_name": "Python",
   "language": "python",
   "name": "conda-env-python-py"
  },
  "language_info": {
   "codemirror_mode": {
    "name": "ipython",
    "version": 3
   },
   "file_extension": ".py",
   "mimetype": "text/x-python",
   "name": "python",
   "nbconvert_exporter": "python",
   "pygments_lexer": "ipython3",
   "version": "3.6.13"
  }
 },
 "nbformat": 4,
 "nbformat_minor": 5
}
